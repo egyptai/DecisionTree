{
  "nbformat": 4,
  "nbformat_minor": 0,
  "metadata": {
    "colab": {
      "name": "20210609BaggingIris.ipynb",
      "provenance": [],
      "authorship_tag": "ABX9TyMTSBP0bICg2r/+35UDEeOe",
      "include_colab_link": true
    },
    "kernelspec": {
      "name": "python3",
      "display_name": "Python 3"
    },
    "language_info": {
      "name": "python"
    }
  },
  "cells": [
    {
      "cell_type": "markdown",
      "metadata": {
        "id": "view-in-github",
        "colab_type": "text"
      },
      "source": [
        "<a href=\"https://colab.research.google.com/github/egyptai/DecisionTree/blob/main/20210609BaggingIris.ipynb\" target=\"_parent\"><img src=\"https://colab.research.google.com/assets/colab-badge.svg\" alt=\"Open In Colab\"/></a>"
      ]
    },
    {
      "cell_type": "code",
      "metadata": {
        "id": "iSlKlKAgWJmP"
      },
      "source": [
        "from sklearn.datasets import load_iris\n",
        "from sklearn.model_selection import train_test_split\n",
        "from sklearn.metrics import confusion_matrix\n",
        "from sklearn.neighbors import KNeighborsClassifier\n",
        "from sklearn.tree import DecisionTreeClassifier\n",
        "from sklearn.svm import SVC\n",
        "from sklearn.linear_model import LogisticRegression\n",
        "from sklearn.ensemble import BaggingClassifier\n",
        "import numpy as np\n",
        "from sklearn.metrics import classification_report"
      ],
      "execution_count": 1,
      "outputs": []
    },
    {
      "cell_type": "code",
      "metadata": {
        "id": "8Uz07_cGRxu2"
      },
      "source": [
        "iris = load_iris()"
      ],
      "execution_count": 2,
      "outputs": []
    },
    {
      "cell_type": "code",
      "metadata": {
        "id": "cl_mInoeR0VH"
      },
      "source": [
        "trainX, testX, trainY, testY = train_test_split(iris['data'], iris['target'], test_size = 0.2)"
      ],
      "execution_count": 3,
      "outputs": []
    },
    {
      "cell_type": "code",
      "metadata": {
        "id": "ciAsy2umR27I"
      },
      "source": [
        "knn = KNeighborsClassifier(n_neighbors=5, p=2, metric='minkowski')\n",
        "dtree = DecisionTreeClassifier(criterion='gini', max_depth=8)\n",
        "svm = SVC(kernel='rbf', gamma=0.1, C=1.0, probability=True)\n",
        "lreg = LogisticRegression(max_iter=500)"
      ],
      "execution_count": 5,
      "outputs": []
    },
    {
      "cell_type": "code",
      "metadata": {
        "id": "DWWihP3GR6I4"
      },
      "source": [
        "prob = np.zeros((testY.shape[0], iris.target_names.shape[0]))\n",
        "base_model = [knn, dtree, svm, lreg]\n",
        "for m in base_model:\n",
        "    bag = BaggingClassifier(base_estimator=m, n_estimators=100, bootstrap=True)\n",
        "    bag.fit(trainX, trainY)\n",
        "    \n",
        "    prob += bag.predict_proba(testX)"
      ],
      "execution_count": 6,
      "outputs": []
    },
    {
      "cell_type": "code",
      "metadata": {
        "id": "t0ejvejHSCwa"
      },
      "source": [
        "predY = np.argmax(prob, axis=1)"
      ],
      "execution_count": 7,
      "outputs": []
    },
    {
      "cell_type": "code",
      "metadata": {
        "colab": {
          "base_uri": "https://localhost:8080/"
        },
        "id": "z2w-Mn1ySIxT",
        "outputId": "e0304ab6-576b-442d-8726-4f234fa643f8"
      },
      "source": [
        "print('\\nConfusion matrix :')\n",
        "print(confusion_matrix(testY, predY))\n",
        "print()\n",
        "print(classification_report(testY, predY, target_names=iris.target_names))"
      ],
      "execution_count": 8,
      "outputs": [
        {
          "output_type": "stream",
          "text": [
            "\n",
            "Confusion matrix :\n",
            "[[ 6  0  0]\n",
            " [ 0 13  1]\n",
            " [ 0  0 10]]\n",
            "\n",
            "              precision    recall  f1-score   support\n",
            "\n",
            "      setosa       1.00      1.00      1.00         6\n",
            "  versicolor       1.00      0.93      0.96        14\n",
            "   virginica       0.91      1.00      0.95        10\n",
            "\n",
            "    accuracy                           0.97        30\n",
            "   macro avg       0.97      0.98      0.97        30\n",
            "weighted avg       0.97      0.97      0.97        30\n",
            "\n"
          ],
          "name": "stdout"
        }
      ]
    },
    {
      "cell_type": "code",
      "metadata": {
        "id": "0F3JMV1KSMAs"
      },
      "source": [
        ""
      ],
      "execution_count": null,
      "outputs": []
    }
  ]
}