{
  "nbformat": 4,
  "nbformat_minor": 0,
  "metadata": {
    "colab": {
      "name": "20210604IrisDecisionTree.ipynb",
      "provenance": [],
      "authorship_tag": "ABX9TyMmV0GPp82rWZjDFBTJBfgm",
      "include_colab_link": true
    },
    "kernelspec": {
      "name": "python3",
      "display_name": "Python 3"
    },
    "language_info": {
      "name": "python"
    }
  },
  "cells": [
    {
      "cell_type": "markdown",
      "metadata": {
        "id": "view-in-github",
        "colab_type": "text"
      },
      "source": [
        "<a href=\"https://colab.research.google.com/github/egyptai/DecisionTree/blob/main/20210604IrisDecisionTree.ipynb\" target=\"_parent\"><img src=\"https://colab.research.google.com/assets/colab-badge.svg\" alt=\"Open In Colab\"/></a>"
      ]
    },
    {
      "cell_type": "code",
      "metadata": {
        "id": "XTyFDgwz5lLV"
      },
      "source": [
        "import matplotlib.pyplot as plt\n",
        "from sklearn.datasets import load_iris\n",
        "from sklearn.model_selection import train_test_split\n",
        "from sklearn.tree import DecisionTreeClassifier\n",
        "import numpy as np"
      ],
      "execution_count": null,
      "outputs": []
    },
    {
      "cell_type": "code",
      "metadata": {
        "id": "kYyk23fF5u92"
      },
      "source": [
        "iris = load_iris()"
      ],
      "execution_count": null,
      "outputs": []
    },
    {
      "cell_type": "code",
      "metadata": {
        "id": "trEH0sE35xA1"
      },
      "source": [
        "trainX, testX, trainY, testY = train_test_split(iris['data'], iris['target'], test_size = 0.2)"
      ],
      "execution_count": null,
      "outputs": []
    },
    {
      "cell_type": "code",
      "metadata": {
        "colab": {
          "base_uri": "https://localhost:8080/"
        },
        "id": "fmBJ72BT569s",
        "outputId": "606ce21c-0f45-41e9-b878-55b99d7bd784"
      },
      "source": [
        "dt = DecisionTreeClassifier(criterion='gini', max_depth = 10)\n",
        "dt.fit(trainX, trainY)"
      ],
      "execution_count": null,
      "outputs": [
        {
          "output_type": "execute_result",
          "data": {
            "text/plain": [
              "DecisionTreeClassifier(ccp_alpha=0.0, class_weight=None, criterion='gini',\n",
              "                       max_depth=10, max_features=None, max_leaf_nodes=None,\n",
              "                       min_impurity_decrease=0.0, min_impurity_split=None,\n",
              "                       min_samples_leaf=1, min_samples_split=2,\n",
              "                       min_weight_fraction_leaf=0.0, presort='deprecated',\n",
              "                       random_state=None, splitter='best')"
            ]
          },
          "metadata": {
            "tags": []
          },
          "execution_count": 7
        }
      ]
    },
    {
      "cell_type": "code",
      "metadata": {
        "colab": {
          "base_uri": "https://localhost:8080/"
        },
        "id": "nMfdGlkX6AbE",
        "outputId": "b6837d82-7aa2-481c-fc10-a2bd23e7cae4"
      },
      "source": [
        "acc = dt.score(testX, testY)\n",
        "print('정확도 =', np.round(acc, 4))"
      ],
      "execution_count": null,
      "outputs": [
        {
          "output_type": "stream",
          "text": [
            "정확도 = 0.9667\n"
          ],
          "name": "stdout"
        }
      ]
    },
    {
      "cell_type": "code",
      "metadata": {
        "colab": {
          "base_uri": "https://localhost:8080/",
          "height": 279
        },
        "id": "ZioG78ER6HUE",
        "outputId": "fa9699de-d36d-4fae-b702-03715d360107"
      },
      "source": [
        "feat_impo = dt.feature_importances_\n",
        "feat_name = list(iris['feature_names'])\n",
        "\n",
        "plt.figure(figsize=(8, 4))\n",
        "x_idx = np.arange(len(feat_name))\n",
        "plt.barh(x_idx, feat_impo, align = 'center')\n",
        "plt.yticks(x_idx, feat_name)\n",
        "plt.xlabel('feature importance')\n",
        "plt.ylabel('feature')\n",
        "plt.show()"
      ],
      "execution_count": null,
      "outputs": [
        {
          "output_type": "display_data",
          "data": {
            "image/png": "[encoded data removed]",
            "text/plain": [
              "<Figure size 576x288 with 1 Axes>"
            ]
          },
          "metadata": {
            "tags": [],
            "needs_background": "light"
          }
        }
      ]
    },
    {
      "cell_type": "code",
      "metadata": {
        "id": "L9NOlv666ZJ9"
      },
      "source": [
        "testGini = []\n",
        "testEntropy = []\n",
        "for k in range(1, 25):\n",
        "    dt = DecisionTreeClassifier(criterion='gini', max_depth=k)\n",
        "    dt.fit(trainX, trainY)\n",
        "\n",
        "    testGini.append(dt.score(testX, testY))\n",
        "\n",
        "    dt = DecisionTreeClassifier(criterion='entropy', max_depth=k)\n",
        "    dt.fit(trainX, trainY)\n",
        "\n",
        "    testEntropy.append(dt.score(testX, testY))"
      ],
      "execution_count": null,
      "outputs": []
    },
    {
      "cell_type": "code",
      "metadata": {
        "colab": {
          "base_uri": "https://localhost:8080/",
          "height": 334
        },
        "id": "AbOPJSxo6yOM",
        "outputId": "9ca8a105-1138-4e31-d468-f212c5d586a6"
      },
      "source": [
        "plt.figure(figsize=(8, 5))\n",
        "plt.plot(testGini, label=\"Gini/Test\")\n",
        "plt.plot(testEntropy, label=\"Entropy/Test\")\n",
        "plt.legend()\n",
        "plt.xlabel(\"Tree depth\")\n",
        "plt.ylabel(\"Accuracy\")\n",
        "plt.show()"
      ],
      "execution_count": null,
      "outputs": [
        {
          "output_type": "display_data",
          "data": {
            "image/png": "[encoded data removed]",
            "text/plain": [
              "<Figure size 576x360 with 1 Axes>"
            ]
          },
          "metadata": {
            "tags": [],
            "needs_background": "light"
          }
        }
      ]
    },
    {
      "cell_type": "code",
      "metadata": {
        "id": "2FcKbFkI6__M"
      },
      "source": [
        ""
      ],
      "execution_count": null,
      "outputs": []
    }
  ]
}